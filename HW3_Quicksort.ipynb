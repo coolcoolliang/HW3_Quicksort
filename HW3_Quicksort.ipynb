{
 "cells": [
  {
   "cell_type": "code",
   "execution_count": 29,
   "id": "26e3545c",
   "metadata": {},
   "outputs": [
    {
     "name": "stdout",
     "output_type": "stream",
     "text": [
      "[3, 8, 13, 25, 33, 41, 54, 67, 84, 119]\n"
     ]
    }
   ],
   "source": [
    "def quicksort(data,left,right):\n",
    "    \n",
    "    if left >= right :            \n",
    "        return\n",
    "    \n",
    "    point=data[left]\n",
    "    a=left\n",
    "    b=right\n",
    "    \n",
    "    while a!=b:\n",
    "\n",
    "        while data[b] > point and a < b : \n",
    "            b -= 1\n",
    "        while  data[a] <= point and a < b : \n",
    "            a += 1\n",
    "\n",
    "        if a < b:\n",
    "            data[a],data[b]=data[b],data[a]\n",
    "           \n",
    "    data[left] = data[a] \n",
    "    data[a] = point\n",
    "           \n",
    "    quicksort(data, left, a-1)   \n",
    "    quicksort(data, a+1, right)\n",
    "    \n",
    "\n",
    "data=[33, 67, 8, 13, 54, 119, 3, 84, 25, 41]\n",
    "quicksort(data, 0, len(data)-1)\n",
    "print(data)"
   ]
  }
 ],
 "metadata": {
  "kernelspec": {
   "display_name": "Python 3 (ipykernel)",
   "language": "python",
   "name": "python3"
  },
  "language_info": {
   "codemirror_mode": {
    "name": "ipython",
    "version": 3
   },
   "file_extension": ".py",
   "mimetype": "text/x-python",
   "name": "python",
   "nbconvert_exporter": "python",
   "pygments_lexer": "ipython3",
   "version": "3.9.13"
  }
 },
 "nbformat": 4,
 "nbformat_minor": 5
}
